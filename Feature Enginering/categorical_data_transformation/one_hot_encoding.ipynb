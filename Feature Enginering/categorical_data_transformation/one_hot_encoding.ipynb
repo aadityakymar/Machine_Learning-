{
 "cells": [
  {
   "cell_type": "code",
   "execution_count": 1,
   "id": "fb3e8962-f354-4b69-982f-a971960f7244",
   "metadata": {},
   "outputs": [],
   "source": [
    "import numpy as np\n",
    "import pandas as pd\n",
    "from sklearn.preprocessing import OneHotEncoder"
   ]
  },
  {
   "cell_type": "code",
   "execution_count": 2,
   "id": "bb279b31-99d7-4192-90db-92c195aa86fa",
   "metadata": {},
   "outputs": [],
   "source": [
    "df=pd.read_csv('cars.csv')"
   ]
  },
  {
   "cell_type": "code",
   "execution_count": 46,
   "id": "48d89e01-35dc-4ca5-8e2f-113396838e58",
   "metadata": {},
   "outputs": [
    {
     "data": {
      "text/html": [
       "<div>\n",
       "<style scoped>\n",
       "    .dataframe tbody tr th:only-of-type {\n",
       "        vertical-align: middle;\n",
       "    }\n",
       "\n",
       "    .dataframe tbody tr th {\n",
       "        vertical-align: top;\n",
       "    }\n",
       "\n",
       "    .dataframe thead th {\n",
       "        text-align: right;\n",
       "    }\n",
       "</style>\n",
       "<table border=\"1\" class=\"dataframe\">\n",
       "  <thead>\n",
       "    <tr style=\"text-align: right;\">\n",
       "      <th></th>\n",
       "      <th>brand</th>\n",
       "      <th>km_driven</th>\n",
       "      <th>fuel</th>\n",
       "      <th>owner</th>\n",
       "      <th>selling_price</th>\n",
       "    </tr>\n",
       "  </thead>\n",
       "  <tbody>\n",
       "    <tr>\n",
       "      <th>0</th>\n",
       "      <td>Maruti</td>\n",
       "      <td>145500</td>\n",
       "      <td>Diesel</td>\n",
       "      <td>First Owner</td>\n",
       "      <td>450000</td>\n",
       "    </tr>\n",
       "    <tr>\n",
       "      <th>1</th>\n",
       "      <td>Skoda</td>\n",
       "      <td>120000</td>\n",
       "      <td>Diesel</td>\n",
       "      <td>Second Owner</td>\n",
       "      <td>370000</td>\n",
       "    </tr>\n",
       "    <tr>\n",
       "      <th>2</th>\n",
       "      <td>Honda</td>\n",
       "      <td>140000</td>\n",
       "      <td>Petrol</td>\n",
       "      <td>Third Owner</td>\n",
       "      <td>158000</td>\n",
       "    </tr>\n",
       "    <tr>\n",
       "      <th>3</th>\n",
       "      <td>Hyundai</td>\n",
       "      <td>127000</td>\n",
       "      <td>Diesel</td>\n",
       "      <td>First Owner</td>\n",
       "      <td>225000</td>\n",
       "    </tr>\n",
       "    <tr>\n",
       "      <th>4</th>\n",
       "      <td>Maruti</td>\n",
       "      <td>120000</td>\n",
       "      <td>Petrol</td>\n",
       "      <td>First Owner</td>\n",
       "      <td>130000</td>\n",
       "    </tr>\n",
       "  </tbody>\n",
       "</table>\n",
       "</div>"
      ],
      "text/plain": [
       "     brand  km_driven    fuel         owner  selling_price\n",
       "0   Maruti     145500  Diesel   First Owner         450000\n",
       "1    Skoda     120000  Diesel  Second Owner         370000\n",
       "2    Honda     140000  Petrol   Third Owner         158000\n",
       "3  Hyundai     127000  Diesel   First Owner         225000\n",
       "4   Maruti     120000  Petrol   First Owner         130000"
      ]
     },
     "execution_count": 46,
     "metadata": {},
     "output_type": "execute_result"
    }
   ],
   "source": [
    "df['brand'].value_counts()\n",
    "df.head()"
   ]
  },
  {
   "cell_type": "code",
   "execution_count": 7,
   "id": "7846b04f-fc00-44b0-8320-e8ea142a0ce3",
   "metadata": {},
   "outputs": [],
   "source": [
    "df3=pd.get_dummies(df,columns=['fuel','owner'],drop_first=True,dtype=int)     #get dummy variables using pandas drop_first=True drops first column to avoid Dummy variable trap\n",
    "\n"
   ]
  },
  {
   "cell_type": "code",
   "execution_count": 9,
   "id": "88ddf48d-2a64-4fae-916f-bff04646f7b5",
   "metadata": {},
   "outputs": [],
   "source": [
    "from sklearn.model_selection import train_test_split\n",
    "x_train, x_test, y_train, y_test= train_test_split(df.iloc[:,0:4],df.iloc[:,-1], test_size=0.2)"
   ]
  },
  {
   "cell_type": "code",
   "execution_count": 11,
   "id": "c3182d2d-f721-4ba5-bbcb-38bf255b3974",
   "metadata": {},
   "outputs": [],
   "source": [
    "ohe = OneHotEncoder(drop='first', sparse_output=False, dtype=np.int32)\n",
    "#sparse lets ohe to create dataframe during transformation otherwise it will be an array"
   ]
  },
  {
   "cell_type": "code",
   "execution_count": 13,
   "id": "d41a259e-9a4a-4fc7-9981-eaf8ccba8d98",
   "metadata": {},
   "outputs": [],
   "source": [
    "x_train_new=ohe.fit_transform(x_train[['fuel','owner']])"
   ]
  },
  {
   "cell_type": "code",
   "execution_count": 15,
   "id": "a7b126d5-0c1d-4491-b2f0-d0f54d0fad92",
   "metadata": {},
   "outputs": [],
   "source": [
    "x_test_new=ohe.fit_transform(x_test[['fuel','owner']])"
   ]
  },
  {
   "cell_type": "code",
   "execution_count": 17,
   "id": "8fbebe30-8b32-4280-bd0e-2a0dece2d0b7",
   "metadata": {},
   "outputs": [
    {
     "data": {
      "text/plain": [
       "(6502, 9)"
      ]
     },
     "execution_count": 17,
     "metadata": {},
     "output_type": "execute_result"
    }
   ],
   "source": [
    "np.hstack((x_train[['brand','km_driven']].values,x_train_new)).shape"
   ]
  },
  {
   "cell_type": "code",
   "execution_count": 19,
   "id": "07e3a0ae-0f23-4a56-a2d9-4b4f56775fef",
   "metadata": {},
   "outputs": [],
   "source": [
    "counts=df['brand'].value_counts()"
   ]
  },
  {
   "cell_type": "code",
   "execution_count": 21,
   "id": "5e30d8b5-0610-4cd3-80f6-cad1ac453dff",
   "metadata": {},
   "outputs": [],
   "source": [
    "df['brand'].nunique()\n",
    "t=100"
   ]
  },
  {
   "cell_type": "code",
   "execution_count": 23,
   "id": "09c84585-a12b-4d5e-a8f3-04815dcedcd0",
   "metadata": {},
   "outputs": [],
   "source": [
    "replac=counts[counts<=100].index"
   ]
  },
  {
   "cell_type": "code",
   "execution_count": 25,
   "id": "29ed8a5e-ae7b-4f2e-bca6-a190164ad461",
   "metadata": {},
   "outputs": [],
   "source": [
    "df2=pd.get_dummies(df['brand'].replace('replac','uncommon'),dtype=int)"
   ]
  },
  {
   "cell_type": "code",
   "execution_count": null,
   "id": "bb6e311d-d05a-4d8e-8502-528b9e2a3d2c",
   "metadata": {},
   "outputs": [],
   "source": []
  },
  {
   "cell_type": "code",
   "execution_count": 28,
   "id": "a7b98a6c-a9c5-4e82-9c46-55ad45a1213e",
   "metadata": {},
   "outputs": [
    {
     "data": {
      "text/html": [
       "<div>\n",
       "<style scoped>\n",
       "    .dataframe tbody tr th:only-of-type {\n",
       "        vertical-align: middle;\n",
       "    }\n",
       "\n",
       "    .dataframe tbody tr th {\n",
       "        vertical-align: top;\n",
       "    }\n",
       "\n",
       "    .dataframe thead th {\n",
       "        text-align: right;\n",
       "    }\n",
       "</style>\n",
       "<table border=\"1\" class=\"dataframe\">\n",
       "  <thead>\n",
       "    <tr style=\"text-align: right;\">\n",
       "      <th></th>\n",
       "      <th>km_driven</th>\n",
       "      <th>selling_price</th>\n",
       "      <th>fuel_Diesel</th>\n",
       "      <th>fuel_LPG</th>\n",
       "      <th>fuel_Petrol</th>\n",
       "      <th>owner_Fourth &amp; Above Owner</th>\n",
       "      <th>owner_Second Owner</th>\n",
       "      <th>owner_Test Drive Car</th>\n",
       "      <th>owner_Third Owner</th>\n",
       "      <th>Ambassador</th>\n",
       "      <th>...</th>\n",
       "      <th>Mitsubishi</th>\n",
       "      <th>Nissan</th>\n",
       "      <th>Opel</th>\n",
       "      <th>Peugeot</th>\n",
       "      <th>Renault</th>\n",
       "      <th>Skoda</th>\n",
       "      <th>Tata</th>\n",
       "      <th>Toyota</th>\n",
       "      <th>Volkswagen</th>\n",
       "      <th>Volvo</th>\n",
       "    </tr>\n",
       "  </thead>\n",
       "  <tbody>\n",
       "    <tr>\n",
       "      <th>0</th>\n",
       "      <td>145500</td>\n",
       "      <td>450000</td>\n",
       "      <td>1</td>\n",
       "      <td>0</td>\n",
       "      <td>0</td>\n",
       "      <td>0</td>\n",
       "      <td>0</td>\n",
       "      <td>0</td>\n",
       "      <td>0</td>\n",
       "      <td>0</td>\n",
       "      <td>...</td>\n",
       "      <td>0</td>\n",
       "      <td>0</td>\n",
       "      <td>0</td>\n",
       "      <td>0</td>\n",
       "      <td>0</td>\n",
       "      <td>0</td>\n",
       "      <td>0</td>\n",
       "      <td>0</td>\n",
       "      <td>0</td>\n",
       "      <td>0</td>\n",
       "    </tr>\n",
       "    <tr>\n",
       "      <th>1</th>\n",
       "      <td>120000</td>\n",
       "      <td>370000</td>\n",
       "      <td>1</td>\n",
       "      <td>0</td>\n",
       "      <td>0</td>\n",
       "      <td>0</td>\n",
       "      <td>1</td>\n",
       "      <td>0</td>\n",
       "      <td>0</td>\n",
       "      <td>0</td>\n",
       "      <td>...</td>\n",
       "      <td>0</td>\n",
       "      <td>0</td>\n",
       "      <td>0</td>\n",
       "      <td>0</td>\n",
       "      <td>0</td>\n",
       "      <td>1</td>\n",
       "      <td>0</td>\n",
       "      <td>0</td>\n",
       "      <td>0</td>\n",
       "      <td>0</td>\n",
       "    </tr>\n",
       "    <tr>\n",
       "      <th>2</th>\n",
       "      <td>140000</td>\n",
       "      <td>158000</td>\n",
       "      <td>0</td>\n",
       "      <td>0</td>\n",
       "      <td>1</td>\n",
       "      <td>0</td>\n",
       "      <td>0</td>\n",
       "      <td>0</td>\n",
       "      <td>1</td>\n",
       "      <td>0</td>\n",
       "      <td>...</td>\n",
       "      <td>0</td>\n",
       "      <td>0</td>\n",
       "      <td>0</td>\n",
       "      <td>0</td>\n",
       "      <td>0</td>\n",
       "      <td>0</td>\n",
       "      <td>0</td>\n",
       "      <td>0</td>\n",
       "      <td>0</td>\n",
       "      <td>0</td>\n",
       "    </tr>\n",
       "    <tr>\n",
       "      <th>3</th>\n",
       "      <td>127000</td>\n",
       "      <td>225000</td>\n",
       "      <td>1</td>\n",
       "      <td>0</td>\n",
       "      <td>0</td>\n",
       "      <td>0</td>\n",
       "      <td>0</td>\n",
       "      <td>0</td>\n",
       "      <td>0</td>\n",
       "      <td>0</td>\n",
       "      <td>...</td>\n",
       "      <td>0</td>\n",
       "      <td>0</td>\n",
       "      <td>0</td>\n",
       "      <td>0</td>\n",
       "      <td>0</td>\n",
       "      <td>0</td>\n",
       "      <td>0</td>\n",
       "      <td>0</td>\n",
       "      <td>0</td>\n",
       "      <td>0</td>\n",
       "    </tr>\n",
       "    <tr>\n",
       "      <th>4</th>\n",
       "      <td>120000</td>\n",
       "      <td>130000</td>\n",
       "      <td>0</td>\n",
       "      <td>0</td>\n",
       "      <td>1</td>\n",
       "      <td>0</td>\n",
       "      <td>0</td>\n",
       "      <td>0</td>\n",
       "      <td>0</td>\n",
       "      <td>0</td>\n",
       "      <td>...</td>\n",
       "      <td>0</td>\n",
       "      <td>0</td>\n",
       "      <td>0</td>\n",
       "      <td>0</td>\n",
       "      <td>0</td>\n",
       "      <td>0</td>\n",
       "      <td>0</td>\n",
       "      <td>0</td>\n",
       "      <td>0</td>\n",
       "      <td>0</td>\n",
       "    </tr>\n",
       "  </tbody>\n",
       "</table>\n",
       "<p>5 rows × 41 columns</p>\n",
       "</div>"
      ],
      "text/plain": [
       "   km_driven  selling_price  fuel_Diesel  fuel_LPG  fuel_Petrol  \\\n",
       "0     145500         450000            1         0            0   \n",
       "1     120000         370000            1         0            0   \n",
       "2     140000         158000            0         0            1   \n",
       "3     127000         225000            1         0            0   \n",
       "4     120000         130000            0         0            1   \n",
       "\n",
       "   owner_Fourth & Above Owner  owner_Second Owner  owner_Test Drive Car  \\\n",
       "0                           0                   0                     0   \n",
       "1                           0                   1                     0   \n",
       "2                           0                   0                     0   \n",
       "3                           0                   0                     0   \n",
       "4                           0                   0                     0   \n",
       "\n",
       "   owner_Third Owner  Ambassador  ...  Mitsubishi  Nissan  Opel  Peugeot  \\\n",
       "0                  0           0  ...           0       0     0        0   \n",
       "1                  0           0  ...           0       0     0        0   \n",
       "2                  1           0  ...           0       0     0        0   \n",
       "3                  0           0  ...           0       0     0        0   \n",
       "4                  0           0  ...           0       0     0        0   \n",
       "\n",
       "   Renault  Skoda  Tata  Toyota  Volkswagen  Volvo  \n",
       "0        0      0     0       0           0      0  \n",
       "1        0      1     0       0           0      0  \n",
       "2        0      0     0       0           0      0  \n",
       "3        0      0     0       0           0      0  \n",
       "4        0      0     0       0           0      0  \n",
       "\n",
       "[5 rows x 41 columns]"
      ]
     },
     "execution_count": 28,
     "metadata": {},
     "output_type": "execute_result"
    }
   ],
   "source": [
    "df4 = pd.concat([df3.drop(columns=['brand']), df2], axis=1)\n",
    "df4.head()"
   ]
  },
  {
   "cell_type": "code",
   "execution_count": 30,
   "id": "ca1343ea-115b-4cb2-9fff-f720339d3f13",
   "metadata": {},
   "outputs": [
    {
     "data": {
      "text/plain": [
       "(8128, 41)"
      ]
     },
     "execution_count": 30,
     "metadata": {},
     "output_type": "execute_result"
    }
   ],
   "source": [
    "df4.shape"
   ]
  },
  {
   "cell_type": "code",
   "execution_count": 34,
   "id": "525eeece-86fd-4b3c-ba5f-5c59770dd38c",
   "metadata": {},
   "outputs": [
    {
     "name": "stdout",
     "output_type": "stream",
     "text": [
      "Mean Squared Error (MSE): 145622567995.56305\n",
      "R² Score: 0.7778397792239562\n"
     ]
    }
   ],
   "source": [
    "from sklearn.model_selection import train_test_split\n",
    "from sklearn.linear_model import LinearRegression\n",
    "from sklearn.metrics import mean_squared_error, r2_score\n",
    "\n",
    "# Set target and features\n",
    "target = df4['selling_price']\n",
    "features = df4.drop(columns=['selling_price'])\n",
    "\n",
    "# Split data\n",
    "x_train2, x_test2, y_train2, y_test2 = train_test_split(features, target, test_size=0.2, random_state=42)\n",
    "\n",
    "# Train model\n",
    "model = LinearRegression()\n",
    "model.fit(x_train2, y_train2)\n",
    "\n",
    "# Predict\n",
    "y_pred = model.predict(x_test2)\n",
    "\n",
    "# Evaluate\n",
    "print(\"Mean Squared Error (MSE):\", mean_squared_error(y_test2, y_pred))\n",
    "print(\"R² Score:\", r2_score(y_test2, y_pred))\n"
   ]
  },
  {
   "cell_type": "code",
   "execution_count": 36,
   "id": "1809ee34-2ef6-418f-a628-8c8fcf413efb",
   "metadata": {},
   "outputs": [],
   "source": [
    "from sklearn.compose import ColumnTransformer"
   ]
  },
  {
   "cell_type": "code",
   "execution_count": 50,
   "id": "3b7c1e9e-2c0a-43b3-8734-6d265d6fa0c2",
   "metadata": {},
   "outputs": [],
   "source": [
    "from sklearn.compose import ColumnTransformer\n",
    "from sklearn.impute import SimpleImputer\n",
    "from sklearn.preprocessing import OrdinalEncoder, OneHotEncoder\n",
    "import numpy as np\n",
    "\n",
    "ct = ColumnTransformer(transformers=[\n",
    "    ('t1', SimpleImputer(), ['km_driven']),\n",
    "    ('t2', OrdinalEncoder(categories=[['Diesel', 'Petrol', 'CNG', 'LPG']]), ['fuel']),\n",
    "    ('t3', OrdinalEncoder(categories=[['Fourth & Above Owner', 'Third Owner', 'Second Owner', 'First Owner', 'Test Drive Car']]), ['owner']),\n",
    "    ('t4', OneHotEncoder(drop='first', sparse_output=False, dtype=np.int32), ['brand'])\n",
    "], remainder='passthrough')\n"
   ]
  },
  {
   "cell_type": "code",
   "execution_count": 56,
   "id": "62ee0043-c80a-47e4-bf3b-e866073b2c59",
   "metadata": {},
   "outputs": [
    {
     "data": {
      "text/plain": [
       "(6502, 34)"
      ]
     },
     "execution_count": 56,
     "metadata": {},
     "output_type": "execute_result"
    }
   ],
   "source": [
    "ct.fit_transform(x_train).shape"
   ]
  },
  {
   "cell_type": "code",
   "execution_count": 58,
   "id": "0a91ae67-a16a-4e80-bff1-ce5f1bb6f29f",
   "metadata": {},
   "outputs": [
    {
     "data": {
      "text/plain": [
       "(1626, 34)"
      ]
     },
     "execution_count": 58,
     "metadata": {},
     "output_type": "execute_result"
    }
   ],
   "source": [
    "ct.transform(x_test).shape"
   ]
  },
  {
   "cell_type": "code",
   "execution_count": null,
   "id": "f356c835-5672-43d7-8479-b165db69cc6e",
   "metadata": {},
   "outputs": [],
   "source": []
  }
 ],
 "metadata": {
  "kernelspec": {
   "display_name": "Python [conda env:base] *",
   "language": "python",
   "name": "conda-base-py"
  },
  "language_info": {
   "codemirror_mode": {
    "name": "ipython",
    "version": 3
   },
   "file_extension": ".py",
   "mimetype": "text/x-python",
   "name": "python",
   "nbconvert_exporter": "python",
   "pygments_lexer": "ipython3",
   "version": "3.12.7"
  }
 },
 "nbformat": 4,
 "nbformat_minor": 5
}
