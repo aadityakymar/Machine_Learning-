{
 "cells": [
  {
   "cell_type": "code",
   "execution_count": 7,
   "id": "616b69f7-45d9-43ae-afa9-a0b52a7940bc",
   "metadata": {},
   "outputs": [],
   "source": [
    "import pickle\n",
    "import numpy as np\n",
    "\n"
   ]
  },
  {
   "cell_type": "code",
   "execution_count": 17,
   "id": "9fc53bd1-0e51-45af-b909-5ea1316edf87",
   "metadata": {},
   "outputs": [],
   "source": [
    "ohe_sex = pickle.load(open(r'C:\\Users\\gadit\\machine learning campusx\\Feature Enginering\\Pipelines\\ohe_sex.pkl', 'rb'))\n",
    "ohe_embarked = pickle.load(open(r'C:\\Users\\gadit\\machine learning campusx\\Feature Enginering\\Pipelines\\ohe_embarked.pkl', 'rb'))\n",
    "clf = pickle.load(open(r'C:\\Users\\gadit\\machine learning campusx\\Feature Enginering\\Pipelines\\clf.pkl', 'rb'))"
   ]
  },
  {
   "cell_type": "code",
   "execution_count": 19,
   "id": "d2c4323d-71de-43c6-9d90-e3f305cf7de3",
   "metadata": {},
   "outputs": [],
   "source": [
    "# Assume user input\n",
    "# Pclass/gender/age/SibSp/Parch/Fare/Embarked\n",
    "test_input = np.array([2, 'male', 31.0, 0, 0, 10.5, 'S'],dtype=object).reshape(1,7)"
   ]
  },
  {
   "cell_type": "code",
   "execution_count": 21,
   "id": "99e68928-7f4a-4fa1-a19c-a42e39be14a4",
   "metadata": {},
   "outputs": [
    {
     "name": "stderr",
     "output_type": "stream",
     "text": [
      "C:\\Users\\gadit\\anaconda3\\Lib\\site-packages\\sklearn\\base.py:493: UserWarning: X does not have valid feature names, but OneHotEncoder was fitted with feature names\n",
      "  warnings.warn(\n"
     ]
    }
   ],
   "source": [
    "test_input_sex = ohe_sex.transform(test_input[:,1].reshape(1,1))"
   ]
  },
  {
   "cell_type": "code",
   "execution_count": 23,
   "id": "06ff222c-a9a9-4af7-ac9f-26d395834c85",
   "metadata": {},
   "outputs": [],
   "source": [
    "test_input_embarked = ohe_embarked.transform(test_input[:,-1].reshape(1,1))"
   ]
  },
  {
   "cell_type": "code",
   "execution_count": 25,
   "id": "6a80f347-5312-4f6b-86f8-3b7e2aced8f6",
   "metadata": {},
   "outputs": [],
   "source": [
    "test_input_age = test_input[:,2].reshape(1,1)"
   ]
  },
  {
   "cell_type": "code",
   "execution_count": 29,
   "id": "dcb504bd-fd8b-49e0-b95d-8b567a56d576",
   "metadata": {},
   "outputs": [],
   "source": [
    "test_input_transformed = np.concatenate((test_input[:,[0,3,4,5]],test_input_age,test_input_sex,test_input_embarked),axis=1)"
   ]
  },
  {
   "cell_type": "code",
   "execution_count": 31,
   "id": "20a18078-efad-4e69-b086-f684e3de86d7",
   "metadata": {},
   "outputs": [
    {
     "data": {
      "text/plain": [
       "array([1], dtype=int64)"
      ]
     },
     "execution_count": 31,
     "metadata": {},
     "output_type": "execute_result"
    }
   ],
   "source": [
    "clf.predict(test_input_transformed)"
   ]
  },
  {
   "cell_type": "code",
   "execution_count": null,
   "id": "50fa5c05-a6ec-4710-a7ed-b4441557103e",
   "metadata": {},
   "outputs": [],
   "source": []
  }
 ],
 "metadata": {
  "kernelspec": {
   "display_name": "Python [conda env:base] *",
   "language": "python",
   "name": "conda-base-py"
  },
  "language_info": {
   "codemirror_mode": {
    "name": "ipython",
    "version": 3
   },
   "file_extension": ".py",
   "mimetype": "text/x-python",
   "name": "python",
   "nbconvert_exporter": "python",
   "pygments_lexer": "ipython3",
   "version": "3.12.7"
  }
 },
 "nbformat": 4,
 "nbformat_minor": 5
}
