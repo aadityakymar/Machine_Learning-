{
 "cells": [
  {
   "cell_type": "code",
   "execution_count": 11,
   "id": "e55193d4-a7b8-44b5-bc1c-e3acc5118ace",
   "metadata": {},
   "outputs": [],
   "source": [
    "import pandas as pd\n",
    "import numpy as np\n",
    "import matplotlib.pyplot as plt\n",
    "import seaborn as sns\n",
    "from sklearn.model_selection import train_test_split\n",
    "from sklearn.linear_model import LogisticRegression\n",
    "from sklearn.metrics import accuracy_score\n",
    "from sklearn.preprocessing import StandardScaler"
   ]
  },
  {
   "cell_type": "code",
   "execution_count": 21,
   "id": "c3215a24-90bc-464f-9402-5fa0010a0a49",
   "metadata": {},
   "outputs": [
    {
     "data": {
      "text/plain": [
       "(1025, 14)"
      ]
     },
     "execution_count": 21,
     "metadata": {},
     "output_type": "execute_result"
    }
   ],
   "source": [
    "df=pd.read_csv('heart.csv')\n",
    "df.sample(5)\n",
    "df.shape"
   ]
  },
  {
   "cell_type": "code",
   "execution_count": 7,
   "id": "8954b2fa-5fec-4279-95ff-3999dfcf155d",
   "metadata": {},
   "outputs": [],
   "source": [
    "x_train, x_test, y_train, y_test= train_test_split(df.drop('target',axis=1),df['target'], test_size=0.3, random_state=0)"
   ]
  },
  {
   "cell_type": "code",
   "execution_count": 13,
   "id": "623b6a20-ac37-4885-b193-37bdad604d5f",
   "metadata": {},
   "outputs": [],
   "source": [
    "scaler = StandardScaler()\n",
    "scaler.fit(x_train)\n",
    "x_train_scaled = scaler.fit_transform(x_train)\n",
    "x_test_scaled = scaler.transform(x_test)"
   ]
  },
  {
   "cell_type": "code",
   "execution_count": 15,
   "id": "5f0231f4-7b1f-4942-bcf5-232eb0f2558d",
   "metadata": {},
   "outputs": [],
   "source": [
    "x_train_scaled=pd.DataFrame(x_train_scaled ,columns=x_train.columns)\n",
    "x_test_scaled =pd.DataFrame(x_test_scaled ,columns=x_test.columns)"
   ]
  },
  {
   "cell_type": "code",
   "execution_count": 29,
   "id": "21104abc-1fb2-4076-8934-8437d608501f",
   "metadata": {},
   "outputs": [],
   "source": [
    "lr=LogisticRegression(max_iter=1000)\n",
    "lr_scaled=LogisticRegression(max_iter=1000)\n"
   ]
  },
  {
   "cell_type": "code",
   "execution_count": 31,
   "id": "65366493-c46e-46d6-a476-676a152a6bb6",
   "metadata": {},
   "outputs": [
    {
     "name": "stdout",
     "output_type": "stream",
     "text": [
      "Without scaling: 0.8668831168831169\n",
      "With scaling   : 0.8668831168831169\n"
     ]
    }
   ],
   "source": [
    "lr.fit(x_train, y_train)\n",
    "lr_scaled.fit(x_train_scaled, y_train)\n",
    "\n",
    "# Predict\n",
    "y_pred = lr.predict(x_test)\n",
    "y_pred_scaled = lr_scaled.predict(x_test_scaled)\n",
    "\n",
    "# Evaluate\n",
    "print(\"Without scaling:\", accuracy_score(y_test, y_pred))\n",
    "print(\"With scaling   :\", accuracy_score(y_test, y_pred_scaled))\n"
   ]
  },
  {
   "cell_type": "code",
   "execution_count": null,
   "id": "0cfe7e4b-05f0-4921-a241-51def25da3be",
   "metadata": {},
   "outputs": [],
   "source": []
  }
 ],
 "metadata": {
  "kernelspec": {
   "display_name": "Python [conda env:base] *",
   "language": "python",
   "name": "conda-base-py"
  },
  "language_info": {
   "codemirror_mode": {
    "name": "ipython",
    "version": 3
   },
   "file_extension": ".py",
   "mimetype": "text/x-python",
   "name": "python",
   "nbconvert_exporter": "python",
   "pygments_lexer": "ipython3",
   "version": "3.12.7"
  }
 },
 "nbformat": 4,
 "nbformat_minor": 5
}
