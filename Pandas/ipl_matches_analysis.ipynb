{
 "cells": [
  {
   "cell_type": "code",
   "execution_count": 2,
   "id": "f3d5a2b8-ee1e-47a7-a75d-e068b466f211",
   "metadata": {},
   "outputs": [],
   "source": [
    "import pandas as pd"
   ]
  },
  {
   "cell_type": "code",
   "execution_count": 4,
   "id": "a0c92b04-71af-4a49-9cc5-cccd603446fc",
   "metadata": {},
   "outputs": [],
   "source": [
    "data=pd.read_csv('deliveries.csv')\n",
    "data2=pd.read_csv('matches.csv')"
   ]
  },
  {
   "cell_type": "code",
   "execution_count": 10,
   "id": "676929ca-e545-4e77-8064-0100400d37c5",
   "metadata": {},
   "outputs": [
    {
     "data": {
      "text/html": [
       "<div>\n",
       "<style scoped>\n",
       "    .dataframe tbody tr th:only-of-type {\n",
       "        vertical-align: middle;\n",
       "    }\n",
       "\n",
       "    .dataframe tbody tr th {\n",
       "        vertical-align: top;\n",
       "    }\n",
       "\n",
       "    .dataframe thead th {\n",
       "        text-align: right;\n",
       "    }\n",
       "</style>\n",
       "<table border=\"1\" class=\"dataframe\">\n",
       "  <thead>\n",
       "    <tr style=\"text-align: right;\">\n",
       "      <th></th>\n",
       "      <th>match_id</th>\n",
       "      <th>inning</th>\n",
       "      <th>batting_team</th>\n",
       "      <th>bowling_team</th>\n",
       "      <th>over</th>\n",
       "      <th>ball</th>\n",
       "      <th>batsman</th>\n",
       "      <th>non_striker</th>\n",
       "      <th>bowler</th>\n",
       "      <th>is_super_over</th>\n",
       "      <th>...</th>\n",
       "      <th>bye_runs</th>\n",
       "      <th>legbye_runs</th>\n",
       "      <th>noball_runs</th>\n",
       "      <th>penalty_runs</th>\n",
       "      <th>batsman_runs</th>\n",
       "      <th>extra_runs</th>\n",
       "      <th>total_runs</th>\n",
       "      <th>player_dismissed</th>\n",
       "      <th>dismissal_kind</th>\n",
       "      <th>fielder</th>\n",
       "    </tr>\n",
       "  </thead>\n",
       "  <tbody>\n",
       "    <tr>\n",
       "      <th>0</th>\n",
       "      <td>1</td>\n",
       "      <td>1</td>\n",
       "      <td>Sunrisers Hyderabad</td>\n",
       "      <td>Royal Challengers Bangalore</td>\n",
       "      <td>1</td>\n",
       "      <td>1</td>\n",
       "      <td>DA Warner</td>\n",
       "      <td>S Dhawan</td>\n",
       "      <td>TS Mills</td>\n",
       "      <td>0</td>\n",
       "      <td>...</td>\n",
       "      <td>0</td>\n",
       "      <td>0</td>\n",
       "      <td>0</td>\n",
       "      <td>0</td>\n",
       "      <td>0</td>\n",
       "      <td>0</td>\n",
       "      <td>0</td>\n",
       "      <td>NaN</td>\n",
       "      <td>NaN</td>\n",
       "      <td>NaN</td>\n",
       "    </tr>\n",
       "    <tr>\n",
       "      <th>1</th>\n",
       "      <td>1</td>\n",
       "      <td>1</td>\n",
       "      <td>Sunrisers Hyderabad</td>\n",
       "      <td>Royal Challengers Bangalore</td>\n",
       "      <td>1</td>\n",
       "      <td>2</td>\n",
       "      <td>DA Warner</td>\n",
       "      <td>S Dhawan</td>\n",
       "      <td>TS Mills</td>\n",
       "      <td>0</td>\n",
       "      <td>...</td>\n",
       "      <td>0</td>\n",
       "      <td>0</td>\n",
       "      <td>0</td>\n",
       "      <td>0</td>\n",
       "      <td>0</td>\n",
       "      <td>0</td>\n",
       "      <td>0</td>\n",
       "      <td>NaN</td>\n",
       "      <td>NaN</td>\n",
       "      <td>NaN</td>\n",
       "    </tr>\n",
       "    <tr>\n",
       "      <th>2</th>\n",
       "      <td>1</td>\n",
       "      <td>1</td>\n",
       "      <td>Sunrisers Hyderabad</td>\n",
       "      <td>Royal Challengers Bangalore</td>\n",
       "      <td>1</td>\n",
       "      <td>3</td>\n",
       "      <td>DA Warner</td>\n",
       "      <td>S Dhawan</td>\n",
       "      <td>TS Mills</td>\n",
       "      <td>0</td>\n",
       "      <td>...</td>\n",
       "      <td>0</td>\n",
       "      <td>0</td>\n",
       "      <td>0</td>\n",
       "      <td>0</td>\n",
       "      <td>4</td>\n",
       "      <td>0</td>\n",
       "      <td>4</td>\n",
       "      <td>NaN</td>\n",
       "      <td>NaN</td>\n",
       "      <td>NaN</td>\n",
       "    </tr>\n",
       "    <tr>\n",
       "      <th>3</th>\n",
       "      <td>1</td>\n",
       "      <td>1</td>\n",
       "      <td>Sunrisers Hyderabad</td>\n",
       "      <td>Royal Challengers Bangalore</td>\n",
       "      <td>1</td>\n",
       "      <td>4</td>\n",
       "      <td>DA Warner</td>\n",
       "      <td>S Dhawan</td>\n",
       "      <td>TS Mills</td>\n",
       "      <td>0</td>\n",
       "      <td>...</td>\n",
       "      <td>0</td>\n",
       "      <td>0</td>\n",
       "      <td>0</td>\n",
       "      <td>0</td>\n",
       "      <td>0</td>\n",
       "      <td>0</td>\n",
       "      <td>0</td>\n",
       "      <td>NaN</td>\n",
       "      <td>NaN</td>\n",
       "      <td>NaN</td>\n",
       "    </tr>\n",
       "    <tr>\n",
       "      <th>4</th>\n",
       "      <td>1</td>\n",
       "      <td>1</td>\n",
       "      <td>Sunrisers Hyderabad</td>\n",
       "      <td>Royal Challengers Bangalore</td>\n",
       "      <td>1</td>\n",
       "      <td>5</td>\n",
       "      <td>DA Warner</td>\n",
       "      <td>S Dhawan</td>\n",
       "      <td>TS Mills</td>\n",
       "      <td>0</td>\n",
       "      <td>...</td>\n",
       "      <td>0</td>\n",
       "      <td>0</td>\n",
       "      <td>0</td>\n",
       "      <td>0</td>\n",
       "      <td>0</td>\n",
       "      <td>2</td>\n",
       "      <td>2</td>\n",
       "      <td>NaN</td>\n",
       "      <td>NaN</td>\n",
       "      <td>NaN</td>\n",
       "    </tr>\n",
       "  </tbody>\n",
       "</table>\n",
       "<p>5 rows × 21 columns</p>\n",
       "</div>"
      ],
      "text/plain": [
       "   match_id  inning         batting_team                 bowling_team  over  \\\n",
       "0         1       1  Sunrisers Hyderabad  Royal Challengers Bangalore     1   \n",
       "1         1       1  Sunrisers Hyderabad  Royal Challengers Bangalore     1   \n",
       "2         1       1  Sunrisers Hyderabad  Royal Challengers Bangalore     1   \n",
       "3         1       1  Sunrisers Hyderabad  Royal Challengers Bangalore     1   \n",
       "4         1       1  Sunrisers Hyderabad  Royal Challengers Bangalore     1   \n",
       "\n",
       "   ball    batsman non_striker    bowler  is_super_over  ...  bye_runs  \\\n",
       "0     1  DA Warner    S Dhawan  TS Mills              0  ...         0   \n",
       "1     2  DA Warner    S Dhawan  TS Mills              0  ...         0   \n",
       "2     3  DA Warner    S Dhawan  TS Mills              0  ...         0   \n",
       "3     4  DA Warner    S Dhawan  TS Mills              0  ...         0   \n",
       "4     5  DA Warner    S Dhawan  TS Mills              0  ...         0   \n",
       "\n",
       "   legbye_runs  noball_runs  penalty_runs  batsman_runs  extra_runs  \\\n",
       "0            0            0             0             0           0   \n",
       "1            0            0             0             0           0   \n",
       "2            0            0             0             4           0   \n",
       "3            0            0             0             0           0   \n",
       "4            0            0             0             0           2   \n",
       "\n",
       "   total_runs  player_dismissed dismissal_kind fielder  \n",
       "0           0               NaN            NaN     NaN  \n",
       "1           0               NaN            NaN     NaN  \n",
       "2           4               NaN            NaN     NaN  \n",
       "3           0               NaN            NaN     NaN  \n",
       "4           2               NaN            NaN     NaN  \n",
       "\n",
       "[5 rows x 21 columns]"
      ]
     },
     "execution_count": 10,
     "metadata": {},
     "output_type": "execute_result"
    }
   ],
   "source": [
    "data.head()\n"
   ]
  },
  {
   "cell_type": "code",
   "execution_count": 16,
   "id": "1b63748b-c4a9-46a6-824f-c293617a936e",
   "metadata": {},
   "outputs": [],
   "source": [
    "runs=data.groupby('batsman')"
   ]
  },
  {
   "cell_type": "code",
   "execution_count": 26,
   "id": "8bb5768e-aeee-49f5-b114-2452f0b38e43",
   "metadata": {},
   "outputs": [
    {
     "data": {
      "text/plain": [
       "batsman\n",
       "SK Raina     4548\n",
       "V Kohli      4423\n",
       "RG Sharma    4207\n",
       "G Gambhir    4132\n",
       "DA Warner    4014\n",
       "Name: batsman_runs, dtype: int64"
      ]
     },
     "execution_count": 26,
     "metadata": {},
     "output_type": "execute_result"
    }
   ],
   "source": [
    "runs['batsman_runs'].sum().sort_values(ascending=False).head()"
   ]
  },
  {
   "cell_type": "code",
   "execution_count": 28,
   "id": "e27e57a6-aec5-4101-842f-89aa7aa0362d",
   "metadata": {},
   "outputs": [],
   "source": [
    "mask=data['batsman_runs']==4\n",
    "new_data=data[mask] #mask only 4s in runs scored by batsman"
   ]
  },
  {
   "cell_type": "code",
   "execution_count": 44,
   "id": "b60eedff-0b5a-4d90-90a3-611103639d99",
   "metadata": {},
   "outputs": [
    {
     "data": {
      "text/plain": [
       "batsman\n",
       "G Gambhir    484\n",
       "SK Raina     402\n",
       "DA Warner    401\n",
       "S Dhawan     401\n",
       "V Kohli      384\n",
       "Name: batsman_runs, dtype: int64"
      ]
     },
     "execution_count": 44,
     "metadata": {},
     "output_type": "execute_result"
    }
   ],
   "source": [
    "new_data.groupby('batsman')['batsman_runs'].count().sort_values(ascending=False).head() #gives top 5 batsman scoring highest no. of 4s"
   ]
  },
  {
   "cell_type": "code",
   "execution_count": 58,
   "id": "231e60ff-f8c5-4ed2-9e6d-e493b230e8f9",
   "metadata": {},
   "outputs": [],
   "source": [
    "def maxRunsScoredAgainst(nameofBatsman):\n",
    "    data[data['batsman']==nameofBatsman]\n",
    "    return data.groupby('bowling_team')['batsman_runs'].sum().sort_values(ascending=False).index[0]"
   ]
  },
  {
   "cell_type": "code",
   "execution_count": 60,
   "id": "67891f4a-af91-43f8-988c-63aa49ab3af4",
   "metadata": {},
   "outputs": [
    {
     "data": {
      "text/plain": [
       "'Mumbai Indians'"
      ]
     },
     "execution_count": 60,
     "metadata": {},
     "output_type": "execute_result"
    }
   ],
   "source": [
    "maxRunsScoredAgainst('V Kohli')"
   ]
  },
  {
   "cell_type": "code",
   "execution_count": 62,
   "id": "863c2c94-b2af-4cd9-a4fb-9ad6fee536ee",
   "metadata": {},
   "outputs": [],
   "source": [
    "# isin()\n",
    "# Find the most destructive death over batsman in the history of IPL\n",
    "# Strike Rate=(Number of runs/Number of balls)/100\n",
    "# Min batsman 200 balls in over 16-20\n",
    "#data_b=data_s.groupby('batsman').count()\n",
    "#data_r=data_s.groupby('batsman')['batsman_runs'].sum().sort_values(ascending=False)\n"
   ]
  },
  {
   "cell_type": "code",
   "execution_count": 126,
   "id": "991c11ee-c72b-4560-80af-7b67d75c85de",
   "metadata": {},
   "outputs": [],
   "source": [
    "mask2 = (data['over'] >= 16) \n",
    "data_s=data[mask2]\n",
    "data_b=data_s.groupby('batsman')['batsman_runs'].count()\n",
    "x=data_b>200\n",
    "data_batsman=data_b[x].index.tolist()\n"
   ]
  },
  {
   "cell_type": "code",
   "execution_count": 128,
   "id": "23ba56ca-ea52-41fe-a983-a28af1222f91",
   "metadata": {},
   "outputs": [],
   "source": [
    "runs=data[data['batsman'].isin(data_batsman)]"
   ]
  },
  {
   "cell_type": "code",
   "execution_count": 138,
   "id": "8e5d0d7b-976b-4212-942c-75332698c4e1",
   "metadata": {},
   "outputs": [
    {
     "data": {
      "text/plain": [
       "batsman\n",
       "AB de Villiers      145.129059\n",
       "YK Pathan           140.751445\n",
       "KA Pollard          140.621266\n",
       "DA Warner           138.318401\n",
       "DA Miller           137.709251\n",
       "JA Morkel           136.938202\n",
       "Harbhajan Singh     135.194585\n",
       "SK Raina            134.995548\n",
       "MS Dhoni            132.835821\n",
       "KM Jadhav           130.555556\n",
       "JP Faulkner         129.802956\n",
       "SPD Smith           128.507127\n",
       "RG Sharma           128.497251\n",
       "WP Saha             127.727646\n",
       "RV Uthappa          127.635135\n",
       "V Kohli             126.588437\n",
       "Yuvraj Singh        126.390244\n",
       "STR Binny           123.747981\n",
       "AT Rayudu           123.014257\n",
       "KD Karthik          123.008475\n",
       "AR Patel            122.672065\n",
       "DJ Bravo            122.286822\n",
       "JP Duminy           121.970624\n",
       "BJ Hodge            121.422376\n",
       "AD Mathews          120.868114\n",
       "DJ Hussey           120.072661\n",
       "LRPL Taylor         120.070838\n",
       "RA Jadeja           118.792867\n",
       "DPMD Jayawardene    118.791064\n",
       "S Dhawan            118.502496\n",
       "AM Rahane           117.486549\n",
       "MK Pandey           116.938453\n",
       "IK Pathan           116.751269\n",
       "S Badrinath         115.742972\n",
       "SS Tiwary           114.851485\n",
       "NV Ojha             114.528024\n",
       "MK Tiwary           114.127424\n",
       "Y Venugopal Rao     113.872832\n",
       "PP Chawla           110.278373\n",
       "R Vinay Kumar       106.666667\n",
       "JH Kallis           105.936272\n",
       "P Kumar             105.263158\n",
       "A Mishra             89.005236\n",
       "Name: batsman_runs, dtype: float64"
      ]
     },
     "execution_count": 138,
     "metadata": {},
     "output_type": "execute_result"
    }
   ],
   "source": [
    "total=runs.groupby('batsman')['batsman_runs'].sum()\n",
    "total_b=runs.groupby('batsman')['batsman_runs'].count()\n",
    "strike=total/total_b*100\n",
    "strike.sort_values(ascending=False)"
   ]
  },
  {
   "cell_type": "code",
   "execution_count": null,
   "id": "747daaad-a714-4d75-b7a4-3271751cf63f",
   "metadata": {},
   "outputs": [],
   "source": []
  }
 ],
 "metadata": {
  "kernelspec": {
   "display_name": "Python [conda env:base] *",
   "language": "python",
   "name": "conda-base-py"
  },
  "language_info": {
   "codemirror_mode": {
    "name": "ipython",
    "version": 3
   },
   "file_extension": ".py",
   "mimetype": "text/x-python",
   "name": "python",
   "nbconvert_exporter": "python",
   "pygments_lexer": "ipython3",
   "version": "3.12.7"
  }
 },
 "nbformat": 4,
 "nbformat_minor": 5
}
