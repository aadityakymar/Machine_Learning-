{
 "cells": [
  {
   "cell_type": "code",
   "execution_count": 275,
   "id": "1e93d805-a98d-4e67-b6d5-5c9ba89b4103",
   "metadata": {},
   "outputs": [],
   "source": [
    "import numpy as np"
   ]
  },
  {
   "cell_type": "code",
   "execution_count": 276,
   "id": "6d468e0d-3a2c-416a-af1c-78a36b45713e",
   "metadata": {},
   "outputs": [
    {
     "data": {
      "text/plain": [
       "array([1, 2, 3, 4, 5, 6])"
      ]
     },
     "execution_count": 276,
     "metadata": {},
     "output_type": "execute_result"
    }
   ],
   "source": [
    "arr1=np.array([1,2,3,4,5,6])\n",
    "arr1"
   ]
  },
  {
   "cell_type": "code",
   "execution_count": 277,
   "id": "254349ca-ab1c-4cb3-a286-d66dc43e6717",
   "metadata": {},
   "outputs": [
    {
     "data": {
      "text/plain": [
       "(6,)"
      ]
     },
     "execution_count": 277,
     "metadata": {},
     "output_type": "execute_result"
    }
   ],
   "source": [
    "arr1.shape"
   ]
  },
  {
   "cell_type": "code",
   "execution_count": 278,
   "id": "165eea6e-2c6b-4129-8b62-45a66df07e42",
   "metadata": {},
   "outputs": [
    {
     "data": {
      "text/plain": [
       "array([[1, 2, 3],\n",
       "       [4, 5, 6]])"
      ]
     },
     "execution_count": 278,
     "metadata": {},
     "output_type": "execute_result"
    }
   ],
   "source": [
    "arr2=np.array([[1,2,3],[4,5,6]])\n",
    "arr2"
   ]
  },
  {
   "cell_type": "code",
   "execution_count": 279,
   "id": "74d8cd0d-81f7-400a-b4f0-764de605f363",
   "metadata": {},
   "outputs": [
    {
     "data": {
      "text/plain": [
       "(2, 3)"
      ]
     },
     "execution_count": 279,
     "metadata": {},
     "output_type": "execute_result"
    }
   ],
   "source": [
    "arr2.shape"
   ]
  },
  {
   "cell_type": "code",
   "execution_count": 280,
   "id": "1bdf0176-cd35-4170-aeb4-a09ab35801b7",
   "metadata": {},
   "outputs": [
    {
     "data": {
      "text/plain": [
       "array([[0., 0., 0.],\n",
       "       [0., 0., 0.]])"
      ]
     },
     "execution_count": 280,
     "metadata": {},
     "output_type": "execute_result"
    }
   ],
   "source": [
    "arr3=np.zeros((2,3))\n",
    "arr3"
   ]
  },
  {
   "cell_type": "code",
   "execution_count": 281,
   "id": "5cc564ad-69a9-4ec9-86ca-5bf10df838bf",
   "metadata": {},
   "outputs": [
    {
     "data": {
      "text/plain": [
       "array([[1., 1., 1., 1., 1.],\n",
       "       [1., 1., 1., 1., 1.],\n",
       "       [1., 1., 1., 1., 1.],\n",
       "       [1., 1., 1., 1., 1.]])"
      ]
     },
     "execution_count": 281,
     "metadata": {},
     "output_type": "execute_result"
    }
   ],
   "source": [
    "arr4=np.ones((4,5))\n",
    "arr4"
   ]
  },
  {
   "cell_type": "code",
   "execution_count": 282,
   "id": "9586473b-9f05-4a00-9bd8-94b204744b89",
   "metadata": {},
   "outputs": [
    {
     "data": {
      "text/plain": [
       "array([[1., 0., 0., 0., 0.],\n",
       "       [0., 1., 0., 0., 0.],\n",
       "       [0., 0., 1., 0., 0.],\n",
       "       [0., 0., 0., 1., 0.],\n",
       "       [0., 0., 0., 0., 1.]])"
      ]
     },
     "execution_count": 282,
     "metadata": {},
     "output_type": "execute_result"
    }
   ],
   "source": [
    "arr5=np.identity(5)\n",
    "arr5"
   ]
  },
  {
   "cell_type": "code",
   "execution_count": 283,
   "id": "3568ab6b-5c87-4539-adbf-9819f9df6c2e",
   "metadata": {},
   "outputs": [
    {
     "data": {
      "text/plain": [
       "array([ 5, 10, 15, 20])"
      ]
     },
     "execution_count": 283,
     "metadata": {},
     "output_type": "execute_result"
    }
   ],
   "source": [
    "arr6=np.arange(5,25,5)\n",
    "arr6"
   ]
  },
  {
   "cell_type": "code",
   "execution_count": null,
   "id": "4744b527-7f64-4558-98fc-9d79ae854d23",
   "metadata": {},
   "outputs": [],
   "source": []
  },
  {
   "cell_type": "code",
   "execution_count": 284,
   "id": "45ead9aa-fefd-4ac4-b7fb-c6f083787268",
   "metadata": {},
   "outputs": [
    {
     "data": {
      "text/plain": [
       "array([10., 15., 20.])"
      ]
     },
     "execution_count": 284,
     "metadata": {},
     "output_type": "execute_result"
    }
   ],
   "source": [
    "arr7=np.linspace(10,20,3)\n",
    "arr7"
   ]
  },
  {
   "cell_type": "code",
   "execution_count": 285,
   "id": "c8be5adb-49ec-4edb-9756-647e6de57c49",
   "metadata": {},
   "outputs": [
    {
     "data": {
      "text/plain": [
       "array([ 5, 10, 15, 20])"
      ]
     },
     "execution_count": 285,
     "metadata": {},
     "output_type": "execute_result"
    }
   ],
   "source": [
    "arr8=arr6.copy()\n",
    "arr8"
   ]
  },
  {
   "cell_type": "code",
   "execution_count": 286,
   "id": "8d0b8b0f-0472-4763-b274-840a65466f85",
   "metadata": {},
   "outputs": [
    {
     "data": {
      "text/plain": [
       "array([[[1, 2],\n",
       "        [3, 4]],\n",
       "\n",
       "       [[5, 6],\n",
       "        [7, 8]],\n",
       "\n",
       "       [[9, 0],\n",
       "        [0, 1]]])"
      ]
     },
     "execution_count": 286,
     "metadata": {},
     "output_type": "execute_result"
    }
   ],
   "source": [
    "arr9=np.array([[[1,2],[3,4]],[[5,6],[7,8]],[[9,0],[0,1]]])\n",
    "arr9"
   ]
  },
  {
   "cell_type": "code",
   "execution_count": 287,
   "id": "25febfc6-a502-405c-8e21-2f7a4970f640",
   "metadata": {},
   "outputs": [
    {
     "data": {
      "text/plain": [
       "(3, 2, 2)"
      ]
     },
     "execution_count": 287,
     "metadata": {},
     "output_type": "execute_result"
    }
   ],
   "source": [
    "arr9.shape\n"
   ]
  },
  {
   "cell_type": "code",
   "execution_count": 288,
   "id": "8024dd52-14d4-4d25-b91a-e3d048a44a47",
   "metadata": {},
   "outputs": [
    {
     "data": {
      "text/plain": [
       "3"
      ]
     },
     "execution_count": 288,
     "metadata": {},
     "output_type": "execute_result"
    }
   ],
   "source": [
    "arr9.ndim"
   ]
  },
  {
   "cell_type": "markdown",
   "id": "63da6e1e-d0f7-4db6-96e4-4d553042bac5",
   "metadata": {},
   "source": [
    "%comparison of list and numpy array"
   ]
  },
  {
   "cell_type": "code",
   "execution_count": 290,
   "id": "9f40dbcf-9abe-48fa-816a-b108bb7f2d26",
   "metadata": {},
   "outputs": [],
   "source": [
    "lista=range(100)\n",
    "arr=np.arange(100)"
   ]
  },
  {
   "cell_type": "code",
   "execution_count": 291,
   "id": "3d3ad23a-225d-45ce-b6e6-57ca8ac3d1b1",
   "metadata": {},
   "outputs": [],
   "source": [
    "import sys"
   ]
  },
  {
   "cell_type": "code",
   "execution_count": 292,
   "id": "32e128a2-7beb-4b11-8010-39558ca1f4a9",
   "metadata": {},
   "outputs": [
    {
     "name": "stdout",
     "output_type": "stream",
     "text": [
      "2800\n",
      "400\n"
     ]
    }
   ],
   "source": [
    "print(sys.getsizeof(20)*len(lista))\n",
    "print(arr.itemsize*arr.size)"
   ]
  },
  {
   "cell_type": "code",
   "execution_count": 293,
   "id": "ae0afb58-6abf-44a1-86e0-6598d728db72",
   "metadata": {},
   "outputs": [],
   "source": [
    "import time "
   ]
  },
  {
   "cell_type": "code",
   "execution_count": 294,
   "id": "d04a4c18-404f-4011-b298-ff2f1a234699",
   "metadata": {},
   "outputs": [
    {
     "name": "stdout",
     "output_type": "stream",
     "text": [
      "0.05701804161071777\n"
     ]
    }
   ],
   "source": [
    "x=range(100000)\n",
    "y=range(100000,200000)\n",
    "start_t=time.time()\n",
    "c=[(x+y) for (x,y) in zip(x,y)]\n",
    "print(time.time()-start_t)"
   ]
  },
  {
   "cell_type": "code",
   "execution_count": 295,
   "id": "91a01e27-0ec1-43c2-a54e-c76842dd753b",
   "metadata": {},
   "outputs": [
    {
     "name": "stdout",
     "output_type": "stream",
     "text": [
      "0.005991458892822266\n"
     ]
    }
   ],
   "source": [
    "a=np.arange(100000)\n",
    "b=np.arange(100000,200000)\n",
    "start_tn=time.time()\n",
    "c=a+b\n",
    "print(time.time()-start_tn)\n"
   ]
  },
  {
   "cell_type": "markdown",
   "id": "563fc5e6-3363-464a-84e6-b1b4061d9bd0",
   "metadata": {},
   "source": [
    "functions of numpy"
   ]
  },
  {
   "cell_type": "code",
   "execution_count": 297,
   "id": "20a11c7a-7b47-46ed-9a62-9e59b07b7492",
   "metadata": {},
   "outputs": [
    {
     "data": {
      "text/plain": [
       "array([[ 0,  1,  2,  3],\n",
       "       [ 4,  5,  6,  7],\n",
       "       [ 8,  9, 10, 11],\n",
       "       [12, 13, 14, 15],\n",
       "       [16, 17, 18, 19],\n",
       "       [20, 21, 22, 23]])"
      ]
     },
     "execution_count": 297,
     "metadata": {},
     "output_type": "execute_result"
    }
   ],
   "source": [
    "arr10=np.arange(24).reshape(6,4) \n",
    "arr10"
   ]
  },
  {
   "cell_type": "code",
   "execution_count": 298,
   "id": "de6d6a9a-0a39-47df-8d81-cd7174059f62",
   "metadata": {},
   "outputs": [
    {
     "data": {
      "text/plain": [
       "array([12, 13, 14, 15])"
      ]
     },
     "execution_count": 298,
     "metadata": {},
     "output_type": "execute_result"
    }
   ],
   "source": [
    "arr10[3]"
   ]
  },
  {
   "cell_type": "code",
   "execution_count": 299,
   "id": "e155602e-2be4-421a-8063-4caee9d8cbbe",
   "metadata": {},
   "outputs": [
    {
     "data": {
      "text/plain": [
       "array([[0, 1, 2, 3],\n",
       "       [4, 5, 6, 7]])"
      ]
     },
     "execution_count": 299,
     "metadata": {},
     "output_type": "execute_result"
    }
   ],
   "source": [
    "arr10[:2]"
   ]
  },
  {
   "cell_type": "code",
   "execution_count": 300,
   "id": "a5e652bf-c27f-42da-a560-fda63d9e3a78",
   "metadata": {},
   "outputs": [
    {
     "data": {
      "text/plain": [
       "array([ 2,  6, 10, 14, 18, 22])"
      ]
     },
     "execution_count": 300,
     "metadata": {},
     "output_type": "execute_result"
    }
   ],
   "source": [
    "arr10[:,2]"
   ]
  },
  {
   "cell_type": "code",
   "execution_count": 301,
   "id": "ec49d2b3-e89b-429e-a730-e6ca69208ad3",
   "metadata": {},
   "outputs": [
    {
     "data": {
      "text/plain": [
       "array([[ 1,  2],\n",
       "       [ 5,  6],\n",
       "       [ 9, 10],\n",
       "       [13, 14],\n",
       "       [17, 18],\n",
       "       [21, 22]])"
      ]
     },
     "execution_count": 301,
     "metadata": {},
     "output_type": "execute_result"
    }
   ],
   "source": [
    "arr10[:,1:3]"
   ]
  },
  {
   "cell_type": "code",
   "execution_count": 302,
   "id": "031121cd-41c3-4c97-ac4f-708df8d1936e",
   "metadata": {},
   "outputs": [
    {
     "data": {
      "text/plain": [
       "array([[ 9, 10],\n",
       "       [13, 14]])"
      ]
     },
     "execution_count": 302,
     "metadata": {},
     "output_type": "execute_result"
    }
   ],
   "source": [
    "arr10[2:4,1:3]"
   ]
  },
  {
   "cell_type": "code",
   "execution_count": 303,
   "id": "309b27f4-62ca-4cc5-a400-6daaf127ca90",
   "metadata": {},
   "outputs": [
    {
     "name": "stdout",
     "output_type": "stream",
     "text": [
      "[0 1 2 3]\n",
      "[4 5 6 7]\n",
      "[ 8  9 10 11]\n",
      "[12 13 14 15]\n",
      "[16 17 18 19]\n",
      "[20 21 22 23]\n"
     ]
    }
   ],
   "source": [
    "for i in arr10:\n",
    "    print(i)"
   ]
  },
  {
   "cell_type": "code",
   "execution_count": 304,
   "id": "59d95e03-c44b-4fe7-9241-718ee87ac764",
   "metadata": {},
   "outputs": [
    {
     "name": "stdout",
     "output_type": "stream",
     "text": [
      "0\n",
      "1\n",
      "2\n",
      "3\n",
      "4\n",
      "5\n",
      "6\n",
      "7\n",
      "8\n",
      "9\n",
      "10\n",
      "11\n",
      "12\n",
      "13\n",
      "14\n",
      "15\n",
      "16\n",
      "17\n",
      "18\n",
      "19\n",
      "20\n",
      "21\n",
      "22\n",
      "23\n"
     ]
    }
   ],
   "source": [
    "for i in np.nditer(arr10):\n",
    "    print(i)"
   ]
  },
  {
   "cell_type": "code",
   "execution_count": 305,
   "id": "b3bcf23e-e00d-497d-ab4c-2944f4056074",
   "metadata": {},
   "outputs": [
    {
     "data": {
      "text/plain": [
       "array([[ 28,  31],\n",
       "       [100, 112]])"
      ]
     },
     "execution_count": 305,
     "metadata": {},
     "output_type": "execute_result"
    }
   ],
   "source": [
    "arr11=np.arange(6).reshape(2,3)\n",
    "arr12=np.arange(6,12).reshape(3,2)\n",
    "arr11.dot(arr12)"
   ]
  },
  {
   "cell_type": "markdown",
   "id": "b2769237-2219-41a6-8cd0-17ccd7eedac9",
   "metadata": {},
   "source": [
    "Broadcasting"
   ]
  },
  {
   "cell_type": "code",
   "execution_count": 307,
   "id": "6d3fb5f7-fc0a-4cba-8a1a-d4c502da92b6",
   "metadata": {},
   "outputs": [
    {
     "name": "stdout",
     "output_type": "stream",
     "text": [
      "[1]\n",
      "[[0 1 2]\n",
      " [3 4 5]\n",
      " [6 7 8]]\n"
     ]
    },
    {
     "data": {
      "text/plain": [
       "array([[1, 2, 3],\n",
       "       [4, 5, 6],\n",
       "       [7, 8, 9]])"
      ]
     },
     "execution_count": 307,
     "metadata": {},
     "output_type": "execute_result"
    }
   ],
   "source": [
    "arr13=np.arange(9).reshape(3,3)\n",
    "arr14=np.array([1])\n",
    "arr15=arr13+arr14\n",
    "print(arr14)\n",
    "print(arr13)\n",
    "arr15"
   ]
  },
  {
   "cell_type": "markdown",
   "id": "201cb5c8-36c4-4fe2-a895-16893ebbd80a",
   "metadata": {},
   "source": [
    "Random values using numpy"
   ]
  },
  {
   "cell_type": "code",
   "execution_count": 309,
   "id": "05d8c4f9-11e3-4814-b601-2827f331dd28",
   "metadata": {},
   "outputs": [
    {
     "data": {
      "text/plain": [
       "0.09280080864073792"
      ]
     },
     "execution_count": 309,
     "metadata": {},
     "output_type": "execute_result"
    }
   ],
   "source": [
    "np.random.random()     "
   ]
  },
  {
   "cell_type": "code",
   "execution_count": 310,
   "id": "b92e486e-66fd-42a9-bcc4-da33fa1d8a4b",
   "metadata": {},
   "outputs": [
    {
     "data": {
      "text/plain": [
       "0.417022004702574"
      ]
     },
     "execution_count": 310,
     "metadata": {},
     "output_type": "execute_result"
    }
   ],
   "source": [
    "np.random.seed(1)\n",
    "np.random.random()"
   ]
  },
  {
   "cell_type": "code",
   "execution_count": 311,
   "id": "a63de0d1-b528-41f2-b681-6bcefd134d95",
   "metadata": {},
   "outputs": [
    {
     "data": {
      "text/plain": [
       "7.482920440979423"
      ]
     },
     "execution_count": 311,
     "metadata": {},
     "output_type": "execute_result"
    }
   ],
   "source": [
    "np.random.uniform(1,10)"
   ]
  },
  {
   "cell_type": "code",
   "execution_count": 312,
   "id": "f5b23ddd-1c64-4fe0-af84-8d6ead38e1fa",
   "metadata": {},
   "outputs": [
    {
     "data": {
      "text/plain": [
       "array([[1.00102937, 3.72099315, 2.32080302, 1.83104735, 2.6763419 ],\n",
       "       [4.11004654, 4.57090727, 5.84935061, 4.77275063, 7.1669755 ]])"
      ]
     },
     "execution_count": 312,
     "metadata": {},
     "output_type": "execute_result"
    }
   ],
   "source": [
    "np.random.uniform(1,10,10).reshape(2,5)"
   ]
  },
  {
   "cell_type": "code",
   "execution_count": 313,
   "id": "9d735001-c2c8-4994-9697-5b0555af79f9",
   "metadata": {},
   "outputs": [
    {
     "data": {
      "text/plain": [
       "3"
      ]
     },
     "execution_count": 313,
     "metadata": {},
     "output_type": "execute_result"
    }
   ],
   "source": [
    "np.random.randint(1,10)"
   ]
  },
  {
   "cell_type": "code",
   "execution_count": 319,
   "id": "215daac7-4fc5-4092-a4f6-acc1e2a6ea7b",
   "metadata": {},
   "outputs": [
    {
     "data": {
      "text/plain": [
       "1"
      ]
     },
     "execution_count": 319,
     "metadata": {},
     "output_type": "execute_result"
    }
   ],
   "source": [
    "arr16=np.random.randint(1,100,10).reshape(2,5)\n"
   ]
  },
  {
   "cell_type": "code",
   "execution_count": 315,
   "id": "de3787ad-8d92-4a4d-a65d-ac97fc2eb1dd",
   "metadata": {},
   "outputs": [
    {
     "data": {
      "text/plain": [
       "97"
      ]
     },
     "execution_count": 315,
     "metadata": {},
     "output_type": "execute_result"
    }
   ],
   "source": [
    "np.max(arr16)"
   ]
  },
  {
   "cell_type": "code",
   "execution_count": 323,
   "id": "39c67cc7-978f-4201-ad07-576d8a12cb64",
   "metadata": {},
   "outputs": [
    {
     "data": {
      "text/plain": [
       "4"
      ]
     },
     "execution_count": 323,
     "metadata": {},
     "output_type": "execute_result"
    }
   ],
   "source": [
    "np.argmax(arr16)\n",
    "np.argmin(arr16)"
   ]
  },
  {
   "cell_type": "code",
   "execution_count": null,
   "id": "91ace140-abd3-43db-a123-b0edd570b810",
   "metadata": {},
   "outputs": [],
   "source": []
  }
 ],
 "metadata": {
  "kernelspec": {
   "display_name": "Python [conda env:base] *",
   "language": "python",
   "name": "conda-base-py"
  },
  "language_info": {
   "codemirror_mode": {
    "name": "ipython",
    "version": 3
   },
   "file_extension": ".py",
   "mimetype": "text/x-python",
   "name": "python",
   "nbconvert_exporter": "python",
   "pygments_lexer": "ipython3",
   "version": "3.12.7"
  }
 },
 "nbformat": 4,
 "nbformat_minor": 5
}
